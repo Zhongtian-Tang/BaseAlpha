{
 "cells": [
  {
   "cell_type": "code",
   "execution_count": null,
   "metadata": {},
   "outputs": [],
   "source": [
    "from typing import Callable, List\n",
    "import pandas as pd\n",
    "from collections import Counter\n",
    "from pprint import pprint\n",
    "from basesqlv3 import BaseSQL\n",
    "import datetime\n",
    "import numpy as np\n",
    "from sklearn.metrics.pairwise import cosine_similarity, paired_distances\n",
    "from scipy.spatial.distance import cosine\n",
    "from tqdm import trange\n",
    "import multiprocessing as mp\n",
    "import time\n",
    "from utils import func_timer\n",
    "from pandarallel import pandarallel\n",
    "import swifter\n",
    "\n",
    "pandarallel.initialize(progress_bar=True)\n",
    "\n",
    "idx = pd.IndexSlice\n",
    "URI = r\"D:\\Data\\stock_concept.csv\""
   ]
  },
  {
   "cell_type": "code",
   "execution_count": null,
   "metadata": {},
   "outputs": [],
   "source": [
    "conn = dict(host='10.224.16.81', user='haquant', passwd='haquant', database='jydb', port=3306, charset='utf8')\n",
    "bsql = BaseSQL(conn, read_only=True)\n",
    "with bsql.start():\n",
    "    bsql.set_active_table('dailydata')\n",
    "    cp = bsql.read(field_names=['adjclose'], date_range=dict(start='2017-01-01', end='2022-08-15'))\n",
    "ret = cp.groupby('wind_code').pct_change()"
   ]
  },
  {
   "cell_type": "code",
   "execution_count": null,
   "metadata": {},
   "outputs": [],
   "source": [
    "stock_concept = pd.read_csv(URI, encoding='GB18030').rename(columns={'DATETIME': 'tradedate'})\n",
    "stock_concept['tradedate'] = pd.to_datetime(stock_concept['tradedate']).dt.date\n",
    "stock_concept.set_index(['tradedate', 'wind_code'], inplace=True)\n",
    "fac = stock_concept['CONCEPT'].astype(str).apply(lambda x: x.split(';')).to_frame('fac')"
   ]
  },
  {
   "cell_type": "code",
   "execution_count": null,
   "metadata": {},
   "outputs": [],
   "source": [
    "def _corr(x: pd.DataFrame) -> pd.DataFrame:\n",
    "    # x = fac_data.xs(datetime.date(2022, 7, 28))\n",
    "    import numpy as np\n",
    "    import pandas as pd\n",
    "    ix = x['fac'].values\n",
    "    corr_ = np.array([[len(set(i) & set(j)) for i in ix] for j in ix])\n",
    "    corr_[np.eye(corr_.shape[0], dtype=np.bool_)] = 0\n",
    "    corr_ = corr_ / corr_.sum(axis=1)\n",
    "    corr_[np.eye(corr_.shape[0], dtype=np.bool_)] = -1\n",
    "    return pd.DataFrame(corr_, index=x.index, columns=x.index)"
   ]
  },
  {
   "cell_type": "code",
   "execution_count": null,
   "metadata": {},
   "outputs": [],
   "source": [
    "data = fac.groupby('tradedate', group_keys=False).parallel_apply(_corr)"
   ]
  },
  {
   "cell_type": "code",
   "execution_count": null,
   "metadata": {},
   "outputs": [],
   "source": [
    "fac.one_hot()"
   ]
  },
  {
   "cell_type": "code",
   "execution_count": null,
   "metadata": {},
   "outputs": [],
   "source": []
  }
 ],
 "metadata": {
  "kernelspec": {
   "display_name": "Python 3.9.12 ('base')",
   "language": "python",
   "name": "python3"
  },
  "language_info": {
   "codemirror_mode": {
    "name": "ipython",
    "version": 3
   },
   "file_extension": ".py",
   "mimetype": "text/x-python",
   "name": "python",
   "nbconvert_exporter": "python",
   "pygments_lexer": "ipython3",
   "version": "3.9.12"
  },
  "orig_nbformat": 4,
  "vscode": {
   "interpreter": {
    "hash": "ad2bdc8ecc057115af97d19610ffacc2b4e99fae6737bb82f5d7fb13d2f2c186"
   }
  }
 },
 "nbformat": 4,
 "nbformat_minor": 2
}
