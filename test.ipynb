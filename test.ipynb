{
 "cells": [
  {
   "cell_type": "code",
   "execution_count": 1,
   "metadata": {},
   "outputs": [],
   "source": [
    "import pandas as pd\n",
    "A = pd.DataFrame([[1,2],[3,4]], columns=['alpha1','alpha2'])"
   ]
  },
  {
   "cell_type": "code",
   "execution_count": 31,
   "metadata": {},
   "outputs": [
    {
     "data": {
      "text/plain": [
       "<pandas.core.strings.accessor.StringMethods at 0x15f16eab730>"
      ]
     },
     "execution_count": 31,
     "metadata": {},
     "output_type": "execute_result"
    }
   ],
   "source": [
    "import pandas as pd\n",
    "\n",
    "# create a dataframe with sample data\n",
    "df = pd.DataFrame({'alpha1': [1, 2, 3], 'alpha2': [2, 4, 6], 'Return': [3, 6, 9]})\n",
    "\n",
    "# access the 'str' attribute of the 'columns' object of the dataframe\n",
    "df.columns.str"
   ]
  },
  {
   "cell_type": "code",
   "execution_count": 23,
   "metadata": {},
   "outputs": [],
   "source": [
    "from utils import *"
   ]
  },
  {
   "cell_type": "code",
   "execution_count": 32,
   "metadata": {},
   "outputs": [],
   "source": [
    "df['tradedate'] = '2023-7-23'"
   ]
  },
  {
   "cell_type": "code",
   "execution_count": 36,
   "metadata": {},
   "outputs": [],
   "source": [
    "data = pd.DataFrame({\n",
    "    'tradedate': ['2021-01-01', '2021-01-01', '2021-01-01', '2021-01-01', '2021-01-01', '2021-01-02', '2021-01-02', '2021-01-02', '2021-01-02', '2021-01-02'],\n",
    "    'alpha1': [1.2, 2.3, 3.4, 4.5, 5.6, 6.7, 7.8, 8.9, 9.0, 10.1],\n",
    "    'alpha2': [2.1, 3.2, 4.3, 5.4, 6.5, 7.6, 8.7, 9.8, 10.9, 11.0],\n",
    "    'ind': ['A', 'B', 'C', 'D', 'E', 'A', 'B', 'C', 'D', 'E'],\n",
    "    'size': ['S', 'S', 'M', 'M', 'L', 'S', 'S', 'M', 'M', 'L'],\n",
    "    'ret': [0.1, 0.2, 0.3, 0.4, 0.5, 0.6, 0.7, 0.8, 0.9, 1.0]\n",
    "})"
   ]
  },
  {
   "cell_type": "code",
   "execution_count": 45,
   "metadata": {},
   "outputs": [],
   "source": [
    "def df_qcut(df: pd.DataFrame, n_groups: int = 5):\n",
    "    \"\"\"Quantile-based discretization function for pandas.DataFrame.\"\"\"\n",
    "    if df.empty or df.count().sum() == 0:\n",
    "        return pd.DataFrame.reindex_like(df)\n",
    "    \n",
    "    def q_cut(x: pd.Series, n_groups: int = n_groups):\n",
    "        try:\n",
    "            return pd.qcut(x, n_groups, duplicates=\"drop\", labels = ['p' + str(i) for i in range(1, n_groups + 1)])\n",
    "        except:\n",
    "            try:\n",
    "                return pd.qcut(x.rank(method='first'),\n",
    "                                      q=np.linespace(0, 1, num=n_groups + 1),\n",
    "                                      duplicates='drop',\n",
    "                                      labels=['p' + str(i) for i in range(1, n_groups + 1)])\n",
    "            except:\n",
    "                try:\n",
    "                    return pd.qcut(x.rank(method='first'), q=n_groups, duplicates='drop', labels=['p' + str(i) for i in range(1, n_groups + 1)])\n",
    "                except ValueError as e:\n",
    "                    _, n_bins = pd.qcut(x.rank(method='first'), q=n_groups, duplicates='drop', retbins=True, labels=False)\n",
    "                    if len(n_bins) == 0:\n",
    "                        return pd.qcut(x.rank(method='first'), q=n_groups, duplicates='drop', labels=['p' + str(i) for i in range(1, len(n_bins))])\n",
    "                    else:\n",
    "                        print(x)\n",
    "                        raise ValueError(len(x.unique()), repr(e))\n",
    "    return df.apply(q_cut)"
   ]
  },
  {
   "cell_type": "code",
   "execution_count": 70,
   "metadata": {},
   "outputs": [],
   "source": [
    "s1 = pd.Series(range(1,10))\n",
    "s2 = pd.Series([1,1,1,1,1,1,1,1,10])\n",
    "s3 = pd.Series([1,3,1,4,1,1,6,1,10])\n",
    "s4 = pd.Series([1,1,1,1,1,1,1,1,1])\n",
    "df = pd.DataFrame({'s1':s1,'s2':s2,'s3':s3,'s4':s4})"
   ]
  },
  {
   "cell_type": "code",
   "execution_count": 71,
   "metadata": {},
   "outputs": [],
   "source": [
    "res = df_qcut(df, 5)"
   ]
  },
  {
   "cell_type": "code",
   "execution_count": 86,
   "metadata": {},
   "outputs": [],
   "source": [
    "factor_data = pd.DataFrame({'tradedate': pd.date_range('2023-07-10', '2023-07-23'),\n",
    "                            'stock':['A','B','A','B','A','B','A','B','A','B','A','B','A','B'],\n",
    "                            'factor': [1,2,3,4,5,6,7,8,9,10,11,12,13,14]}).set_index(['tradedate','stock'])"
   ]
  },
  {
   "cell_type": "code",
   "execution_count": 88,
   "metadata": {},
   "outputs": [
    {
     "data": {
      "text/html": [
       "<div>\n",
       "<style scoped>\n",
       "    .dataframe tbody tr th:only-of-type {\n",
       "        vertical-align: middle;\n",
       "    }\n",
       "\n",
       "    .dataframe tbody tr th {\n",
       "        vertical-align: top;\n",
       "    }\n",
       "\n",
       "    .dataframe thead th {\n",
       "        text-align: right;\n",
       "    }\n",
       "</style>\n",
       "<table border=\"1\" class=\"dataframe\">\n",
       "  <thead>\n",
       "    <tr style=\"text-align: right;\">\n",
       "      <th></th>\n",
       "      <th></th>\n",
       "      <th>factor</th>\n",
       "    </tr>\n",
       "    <tr>\n",
       "      <th>stock</th>\n",
       "      <th>tradedate</th>\n",
       "      <th></th>\n",
       "    </tr>\n",
       "  </thead>\n",
       "  <tbody>\n",
       "    <tr>\n",
       "      <th rowspan=\"7\" valign=\"top\">A</th>\n",
       "      <th>2023-07-10</th>\n",
       "      <td>1</td>\n",
       "    </tr>\n",
       "    <tr>\n",
       "      <th>2023-07-12</th>\n",
       "      <td>3</td>\n",
       "    </tr>\n",
       "    <tr>\n",
       "      <th>2023-07-14</th>\n",
       "      <td>5</td>\n",
       "    </tr>\n",
       "    <tr>\n",
       "      <th>2023-07-16</th>\n",
       "      <td>7</td>\n",
       "    </tr>\n",
       "    <tr>\n",
       "      <th>2023-07-18</th>\n",
       "      <td>9</td>\n",
       "    </tr>\n",
       "    <tr>\n",
       "      <th>2023-07-20</th>\n",
       "      <td>11</td>\n",
       "    </tr>\n",
       "    <tr>\n",
       "      <th>2023-07-22</th>\n",
       "      <td>13</td>\n",
       "    </tr>\n",
       "    <tr>\n",
       "      <th rowspan=\"7\" valign=\"top\">B</th>\n",
       "      <th>2023-07-11</th>\n",
       "      <td>2</td>\n",
       "    </tr>\n",
       "    <tr>\n",
       "      <th>2023-07-13</th>\n",
       "      <td>4</td>\n",
       "    </tr>\n",
       "    <tr>\n",
       "      <th>2023-07-15</th>\n",
       "      <td>6</td>\n",
       "    </tr>\n",
       "    <tr>\n",
       "      <th>2023-07-17</th>\n",
       "      <td>8</td>\n",
       "    </tr>\n",
       "    <tr>\n",
       "      <th>2023-07-19</th>\n",
       "      <td>10</td>\n",
       "    </tr>\n",
       "    <tr>\n",
       "      <th>2023-07-21</th>\n",
       "      <td>12</td>\n",
       "    </tr>\n",
       "    <tr>\n",
       "      <th>2023-07-23</th>\n",
       "      <td>14</td>\n",
       "    </tr>\n",
       "  </tbody>\n",
       "</table>\n",
       "</div>"
      ],
      "text/plain": [
       "                  factor\n",
       "stock tradedate         \n",
       "A     2023-07-10       1\n",
       "      2023-07-12       3\n",
       "      2023-07-14       5\n",
       "      2023-07-16       7\n",
       "      2023-07-18       9\n",
       "      2023-07-20      11\n",
       "      2023-07-22      13\n",
       "B     2023-07-11       2\n",
       "      2023-07-13       4\n",
       "      2023-07-15       6\n",
       "      2023-07-17       8\n",
       "      2023-07-19      10\n",
       "      2023-07-21      12\n",
       "      2023-07-23      14"
      ]
     },
     "execution_count": 88,
     "metadata": {},
     "output_type": "execute_result"
    }
   ],
   "source": [
    "temp = factor_data.swaplevel(axis=0).sort_index(axis=0)\n",
    "temp"
   ]
  },
  {
   "cell_type": "code",
   "execution_count": 101,
   "metadata": {},
   "outputs": [],
   "source": [
    "date_idx = pd.DatetimeIndex(temp.index.get_level_values('tradedate').unique())"
   ]
  },
  {
   "cell_type": "code",
   "execution_count": 106,
   "metadata": {},
   "outputs": [],
   "source": [
    "def resample(data: pd.DataFrame, freq: str = 'M'):\n",
    "    date_idx = pd.DatetimeIndex(data.index.get_level_values('tradedate').unique())\n",
    "    year = date_idx.year\n",
    "    if freq == 'D':\n",
    "        freq = date_idx.dayofyear\n",
    "    elif freq == 'Y':\n",
    "        freq = date_idx.year\n",
    "    elif freq == 'M':\n",
    "        freq = date_idx.month\n",
    "    elif freq == 'W':\n",
    "        year = date_idx.isocalendar().year  #每年的最后一天不一定是当年（有可能是下一年）的星期，最开始一天不一定是当年（有可能是上一年）的星期\n",
    "        freq = date_idx.isocalendar().week\n",
    "    elif freq == 'Q':\n",
    "        freq = date_idx.quarter\n",
    "    date_idx = date_idx.to_frame().groupby([year, freq], as_index=False).last().set_index('tradedate')\n",
    "\n",
    "    return data.reindex(date_idx.index, level='tradedate', method='ffill')"
   ]
  },
  {
   "cell_type": "code",
   "execution_count": 110,
   "metadata": {},
   "outputs": [
    {
     "data": {
      "text/plain": [
       "Int64Index([191, 193, 195, 197, 199, 201, 203, 192, 194, 196, 198, 200, 202,\n",
       "            204],\n",
       "           dtype='int64', name='tradedate')"
      ]
     },
     "execution_count": 110,
     "metadata": {},
     "output_type": "execute_result"
    }
   ],
   "source": [
    "date_idx.dayofyear"
   ]
  },
  {
   "cell_type": "code",
   "execution_count": 115,
   "metadata": {},
   "outputs": [],
   "source": [
    "freq = date_idx.dayofyear"
   ]
  },
  {
   "cell_type": "code",
   "execution_count": 1,
   "metadata": {},
   "outputs": [],
   "source": [
    "from config import C"
   ]
  },
  {
   "cell_type": "code",
   "execution_count": 5,
   "metadata": {},
   "outputs": [],
   "source": [
    "_global_conig = C.__dict__['_config']"
   ]
  },
  {
   "cell_type": "code",
   "execution_count": null,
   "metadata": {},
   "outputs": [],
   "source": []
  }
 ],
 "metadata": {
  "kernelspec": {
   "display_name": "base",
   "language": "python",
   "name": "python3"
  },
  "language_info": {
   "codemirror_mode": {
    "name": "ipython",
    "version": 3
   },
   "file_extension": ".py",
   "mimetype": "text/x-python",
   "name": "python",
   "nbconvert_exporter": "python",
   "pygments_lexer": "ipython3",
   "version": "3.10.9"
  },
  "orig_nbformat": 4
 },
 "nbformat": 4,
 "nbformat_minor": 2
}
